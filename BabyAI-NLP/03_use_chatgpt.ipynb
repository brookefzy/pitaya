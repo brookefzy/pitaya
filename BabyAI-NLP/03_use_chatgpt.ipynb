{
 "cells": [
  {
   "cell_type": "markdown",
   "metadata": {},
   "source": [
    "# Goal:\n",
    "1. Use prompt engineer to read pdf and extract json file\n",
    "2. Simple visualize the result\n",
    "3. See full tutorial [Link](https://learn.deeplearning.ai/chatgpt-prompt-eng/lesson/1/lesson_1)"
   ]
  },
  {
   "cell_type": "code",
   "execution_count": 3,
   "metadata": {},
   "outputs": [],
   "source": [
    "# set up\n",
    "import openai\n",
    "import os\n",
    "import pandas as pd\n",
    "import numpy as np\n",
    "from dotenv import load_dotenv, find_dotenv\n",
    "_ = load_dotenv(find_dotenv()) # read local .env file\n",
    "\n",
    "openai.api_key  = os.getenv('OPENAI_API_KEY')"
   ]
  },
  {
   "cell_type": "code",
   "execution_count": 39,
   "metadata": {},
   "outputs": [],
   "source": [
    "def get_completion(prompt, model=\"gpt-3.5-turbo\"): # Andrew mentioned that the prompt/ completion paradigm is preferable for this class\n",
    "    messages = [{\"role\": \"user\", \"content\": prompt}]\n",
    "    response = openai.chat.completions.create(\n",
    "        model=model,\n",
    "        messages=messages,\n",
    "        temperature=0, # this is the degree of randomness of the model's output\n",
    "    )\n",
    "    return response.choices[0].message.content"
   ]
  },
  {
   "cell_type": "code",
   "execution_count": 53,
   "metadata": {},
   "outputs": [],
   "source": [
    "df = pd.read_csv(\"./data/abstracts-machine learning urban planning-20231203-1932rows.csv\")\n",
    "df['Abstract'] = df['Abstract'].astype(str)\n",
    "df['Abstract'] = df['Abstract'].str.replace('\\n', ' ')\n",
    "abstracts = df['Abstract'].values\n",
    "# bin the abstracts into groups of 200\n",
    "# abstracts_ls = np.array_split(abstracts, 100)"
   ]
  },
  {
   "cell_type": "code",
   "execution_count": 60,
   "metadata": {},
   "outputs": [],
   "source": [
    "prompt = \"\"\"\n",
    "Read the array of paragraph, delimited by triple \n",
    "backticks below, and summarize the specific machine learning method or model used in a list format. \n",
    "The summarized methods should not have duplicates. It cannot be a general term such as \n",
    "\"machine learning\" or \"supervised learning\" or \"unsupervised learning\".\n",
    "The summary should be in the following format:\n",
    "[\n",
    "    \"method_1\",\n",
    "    \"method_2\",\n",
    "    ...\n",
    "    ]\n",
    "\n",
    "```\n",
    "{abs_text}\n",
    "```\n",
    "\"\"\""
   ]
  },
  {
   "cell_type": "code",
   "execution_count": 34,
   "metadata": {},
   "outputs": [],
   "source": [
    "# model=\"gpt-3.5-turbo\"\n",
    "# messages = [{\"role\": \"user\", \"content\": prompt}]\n",
    "# response = openai.chat.completions.create(\n",
    "#         model=model,\n",
    "#         messages=messages,\n",
    "#         temperature=0, # this is the degree of randomness of the model's output\n",
    "#     )"
   ]
  },
  {
   "cell_type": "code",
   "execution_count": 61,
   "metadata": {},
   "outputs": [
    {
     "name": "stdout",
     "output_type": "stream",
     "text": [
      "Completed task 1\n",
      "Completed task 2\n"
     ]
    }
   ],
   "source": [
    "task_ls = []\n",
    "for i, temp in enumerate(abstracts[:2]):\n",
    "    prompt = prompt.format(abs_text=temp)\n",
    "    completion = get_completion(prompt)\n",
    "    task_ls.append(completion)\n",
    "    print(f\"Completed task {i+1}\")"
   ]
  },
  {
   "cell_type": "code",
   "execution_count": 62,
   "metadata": {},
   "outputs": [
    {
     "data": {
      "text/plain": [
       "['[\\n    \"geographic information systems (GIS) technology\",\\n    \"confirmatory factor analysis\",\\n    \"unsupervised machine learning\"\\n]',\n",
       " '[\\n    \"geographic information systems (GIS) technology\",\\n    \"confirmatory factor analysis\",\\n    \"unsupervised machine learning\"\\n]']"
      ]
     },
     "execution_count": 62,
     "metadata": {},
     "output_type": "execute_result"
    }
   ],
   "source": [
    "task_ls"
   ]
  },
  {
   "cell_type": "code",
   "execution_count": 42,
   "metadata": {},
   "outputs": [],
   "source": [
    "# this is the full results\n",
    "methodsummary = {\n",
    "  \"random forest\": 451,\n",
    "  \"neural network\": 404,\n",
    "  \"support vector machine\": 358,\n",
    "  \"convolutional neural network\": 158,\n",
    "  \"gradient boosting\": 134,\n",
    "  \"decision tree\": 119,\n",
    "  \"clustering\": 104,\n",
    "  \"bayesian\": 54,\n",
    "  \"lstm\": 52,\n",
    "  \"feature selection\": 28\n",
    "}"
   ]
  },
  {
   "cell_type": "code",
   "execution_count": 47,
   "metadata": {},
   "outputs": [
    {
     "name": "stderr",
     "output_type": "stream",
     "text": [
      "/Users/yuan/opt/anaconda3/envs/ox/lib/python3.11/site-packages/seaborn/_oldcore.py:1498: FutureWarning: is_categorical_dtype is deprecated and will be removed in a future version. Use isinstance(dtype, CategoricalDtype) instead\n",
      "  if pd.api.types.is_categorical_dtype(vector):\n",
      "/Users/yuan/opt/anaconda3/envs/ox/lib/python3.11/site-packages/seaborn/_oldcore.py:1498: FutureWarning: is_categorical_dtype is deprecated and will be removed in a future version. Use isinstance(dtype, CategoricalDtype) instead\n",
      "  if pd.api.types.is_categorical_dtype(vector):\n",
      "/Users/yuan/opt/anaconda3/envs/ox/lib/python3.11/site-packages/seaborn/_oldcore.py:1765: FutureWarning: unique with argument that is not not a Series, Index, ExtensionArray, or np.ndarray is deprecated and will raise in a future version.\n",
      "  order = pd.unique(vector)\n",
      "/Users/yuan/opt/anaconda3/envs/ox/lib/python3.11/site-packages/seaborn/_oldcore.py:1498: FutureWarning: is_categorical_dtype is deprecated and will be removed in a future version. Use isinstance(dtype, CategoricalDtype) instead\n",
      "  if pd.api.types.is_categorical_dtype(vector):\n"
     ]
    },
    {
     "data": {
      "image/png": "[encoded data removed]",
      "text/plain": [
       "<Figure size 500x500 with 1 Axes>"
      ]
     },
     "metadata": {},
     "output_type": "display_data"
    }
   ],
   "source": [
    "# visualize the result\n",
    "import seaborn as sns\n",
    "import matplotlib.pyplot as plt\n",
    "sns.set_theme(style=\"whitegrid\")\n",
    "fig, ax = plt.subplots(figsize=(5, 5))\n",
    "sns.barplot(y=list(methodsummary.keys()), \n",
    "            x=list(methodsummary.values()),\n",
    "            ax = ax,\n",
    "            palette=\"Set2\")\n",
    "sns.despine(left=True, bottom=True)\n",
    "# plt.xticks(rotation=45)"
   ]
  },
  {
   "cell_type": "markdown",
   "metadata": {},
   "source": []
  }
 ],
 "metadata": {
  "kernelspec": {
   "display_name": "ox",
   "language": "python",
   "name": "python3"
  },
  "language_info": {
   "codemirror_mode": {
    "name": "ipython",
    "version": 3
   },
   "file_extension": ".py",
   "mimetype": "text/x-python",
   "name": "python",
   "nbconvert_exporter": "python",
   "pygments_lexer": "ipython3",
   "version": "3.11.5"
  },
  "orig_nbformat": 4
 },
 "nbformat": 4,
 "nbformat_minor": 2
}
