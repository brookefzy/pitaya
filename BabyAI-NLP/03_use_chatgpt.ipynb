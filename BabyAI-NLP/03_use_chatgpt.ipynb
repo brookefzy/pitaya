{
 "cells": [
  {
   "cell_type": "code",
   "execution_count": null,
   "metadata": {},
   "outputs": [],
   "source": []
  },
  {
   "cell_type": "code",
   "execution_count": null,
   "metadata": {},
   "outputs": [],
   "source": [
    "prompt = \"\"\"\n",
    "Read the \"abstract\" field in the uploaded csv file and summarize the top 10 machine learning methods used in a json format.\n",
    "\"\"\""
   ]
  },
  {
   "cell_type": "code",
   "execution_count": null,
   "metadata": {},
   "outputs": [],
   "source": [
    "methodsummary = {\n",
    "  \"random forest\": 451,\n",
    "  \"neural network\": 404,\n",
    "  \"support vector machine\": 358,\n",
    "  \"convolutional neural network\": 158,\n",
    "  \"gradient boosting\": 134,\n",
    "  \"decision tree\": 119,\n",
    "  \"clustering\": 104,\n",
    "  \"bayesian\": 54,\n",
    "  \"lstm\": 52,\n",
    "  \"feature selection\": 28\n",
    "}"
   ]
  },
  {
   "cell_type": "markdown",
   "metadata": {},
   "source": []
  }
 ],
 "metadata": {
  "language_info": {
   "name": "python"
  },
  "orig_nbformat": 4
 },
 "nbformat": 4,
 "nbformat_minor": 2
}
