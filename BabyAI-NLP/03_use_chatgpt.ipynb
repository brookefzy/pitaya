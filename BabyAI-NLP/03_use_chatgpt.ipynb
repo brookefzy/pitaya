{
 "cells": [
  {
   "cell_type": "markdown",
   "metadata": {},
   "source": [
    "# Goal:\n",
    "1. Use prompt engineer to read pdf and extract json file\n",
    "2. Simple visualize the result\n",
    "3. See full tutorial [Link](https://learn.deeplearning.ai/chatgpt-prompt-eng/lesson/1/lesson_1)"
   ]
  },
  {
   "cell_type": "code",
   "execution_count": 9,
   "metadata": {},
   "outputs": [],
   "source": [
    "# set up\n",
    "import openai\n",
    "import os\n",
    "import pandas as pd\n",
    "import numpy as np\n",
    "from dotenv import load_dotenv, find_dotenv\n",
    "_ = load_dotenv(find_dotenv()) # read local .env file\n",
    "\n",
    "openai.api_key  = os.getenv('OPENAI_API_KEY')"
   ]
  },
  {
   "cell_type": "code",
   "execution_count": 10,
   "metadata": {},
   "outputs": [],
   "source": [
    "def get_completion(prompt, model=\"gpt-3.5-turbo\"): # Andrew mentioned that the prompt/ completion paradigm is preferable for this class\n",
    "    messages = [{\"role\": \"user\", \"content\": prompt}]\n",
    "    response = openai.chat.completions.create(\n",
    "        model=model,\n",
    "        messages=messages,\n",
    "        temperature=0, # this is the degree of randomness of the model's output\n",
    "    )\n",
    "    return response.choices[0].message.content"
   ]
  },
  {
   "cell_type": "code",
   "execution_count": 11,
   "metadata": {},
   "outputs": [
    {
     "name": "stdout",
     "output_type": "stream",
     "text": [
      "It is challenging to provide an accurate estimate of the market value of supervised learning in the US in 2020 as there is no specific data available for this specific market segment. However, we can provide a rough estimate based on the overall artificial intelligence (AI) market and its growth.\n",
      "\n",
      "According to a report by Grand View Research, the global AI market size was valued at $39.9 billion in 2019 and is expected to grow at a compound annual growth rate (CAGR) of 42.2% from 2020 to 2027. The US is one of the leading countries in AI adoption and development, accounting for a significant portion of the global market.\n",
      "\n",
      "Supervised learning is a fundamental component of AI, and it plays a crucial role in various industries such as healthcare, finance, retail, and more. As AI adoption continues to increase across these sectors, the demand for supervised learning solutions is also expected to grow.\n",
      "\n",
      "Considering the overall AI market growth and the significance of supervised learning within AI, it is reasonable to assume that the market value of supervised learning in the US in 2020 could be in the range of several billion dollars. However, without specific data, this estimate should be considered as a rough approximation.\n"
     ]
    }
   ],
   "source": [
    "prompt = \"Estimate the market value of supervised learning in the US in 2020.\"\n",
    "print(get_completion(prompt))"
   ]
  },
  {
   "cell_type": "code",
   "execution_count": 13,
   "metadata": {},
   "outputs": [
    {
     "name": "stdout",
     "output_type": "stream",
     "text": [
      "It is difficult to provide an exact number of deaths caused by jaywalking worldwide each year, as data collection and reporting methods vary across countries. Additionally, jaywalking-related deaths may be classified differently in different regions. However, it is known that pedestrian fatalities occur due to various factors, including jaywalking, distracted walking, and other unsafe behaviors. According to the World Health Organization (WHO), globally, around 270,000 pedestrians lose their lives in road traffic crashes each year. It is important to note that this figure includes all pedestrian fatalities, not just those specifically caused by jaywalking.\n"
     ]
    }
   ],
   "source": [
    "prompt = \"How many people die due to jaywalking in the world each year?\"\n",
    "print(get_completion(prompt))"
   ]
  },
  {
   "cell_type": "code",
   "execution_count": null,
   "metadata": {},
   "outputs": [],
   "source": [
    "df = pd.read_csv(\"./data/abstracts-machine learning urban planning-20231203-1932rows.csv\")\n",
    "df['Abstract'] = df['Abstract'].astype(str)\n",
    "df['Abstract'] = df['Abstract'].str.replace('\\n', ' ')\n",
    "abstracts = df['Abstract'].values\n",
    "# bin the abstracts into groups of 200\n",
    "# abstracts_ls = np.array_split(abstracts, 100)"
   ]
  },
  {
   "cell_type": "code",
   "execution_count": null,
   "metadata": {},
   "outputs": [],
   "source": [
    "prompt = \"\"\"\n",
    "Read the array of paragraph, delimited by triple \n",
    "backticks below, and summarize the specific machine learning method or model used in a list format. \n",
    "The summarized methods should not have duplicates. It cannot be a general term such as \n",
    "\"machine learning\" or \"supervised learning\" or \"unsupervised learning\".\n",
    "The summary should be in the following format:\n",
    "[\n",
    "    \"method_1\",\n",
    "    \"method_2\",\n",
    "    ...\n",
    "    ]\n",
    "\n",
    "```\n",
    "{abs_text}\n",
    "```\n",
    "\"\"\""
   ]
  },
  {
   "cell_type": "code",
   "execution_count": null,
   "metadata": {},
   "outputs": [],
   "source": [
    "# model=\"gpt-3.5-turbo\"\n",
    "# messages = [{\"role\": \"user\", \"content\": prompt}]\n",
    "# response = openai.chat.completions.create(\n",
    "#         model=model,\n",
    "#         messages=messages,\n",
    "#         temperature=0, # this is the degree of randomness of the model's output\n",
    "#     )"
   ]
  },
  {
   "cell_type": "code",
   "execution_count": null,
   "metadata": {},
   "outputs": [],
   "source": [
    "task_ls = []\n",
    "for i, temp in enumerate(abstracts[:2]):\n",
    "    prompt = prompt.format(abs_text=temp)\n",
    "    completion = get_completion(prompt)\n",
    "    task_ls.append(completion)\n",
    "    print(f\"Completed task {i+1}\")"
   ]
  },
  {
   "cell_type": "code",
   "execution_count": null,
   "metadata": {},
   "outputs": [],
   "source": [
    "# this is the full results\n",
    "methodsummary = {\n",
    "  \"random forest\": 451,\n",
    "  \"neural network\": 404,\n",
    "  \"support vector machine\": 358,\n",
    "  \"convolutional neural network\": 158,\n",
    "  \"gradient boosting\": 134,\n",
    "  \"decision tree\": 119,\n",
    "  \"clustering\": 104,\n",
    "  \"bayesian\": 54,\n",
    "  \"lstm\": 52,\n",
    "  \"feature selection\": 28\n",
    "}"
   ]
  },
  {
   "cell_type": "code",
   "execution_count": null,
   "metadata": {},
   "outputs": [],
   "source": [
    "# visualize the result\n",
    "import seaborn as sns\n",
    "import matplotlib.pyplot as plt\n",
    "sns.set_theme(style=\"whitegrid\")\n",
    "fig, ax = plt.subplots(figsize=(5, 5))\n",
    "sns.barplot(y=list(methodsummary.keys()), \n",
    "            x=list(methodsummary.values()),\n",
    "            ax = ax,\n",
    "            palette=\"Set2\")\n",
    "sns.despine(left=True, bottom=True)\n",
    "# plt.xticks(rotation=45)"
   ]
  },
  {
   "cell_type": "markdown",
   "metadata": {},
   "source": []
  }
 ],
 "metadata": {
  "kernelspec": {
   "display_name": "ox",
   "language": "python",
   "name": "python3"
  },
  "language_info": {
   "codemirror_mode": {
    "name": "ipython",
    "version": 3
   },
   "file_extension": ".py",
   "mimetype": "text/x-python",
   "name": "python",
   "nbconvert_exporter": "python",
   "pygments_lexer": "ipython3",
   "version": "3.10.13"
  },
  "orig_nbformat": 4
 },
 "nbformat": 4,
 "nbformat_minor": 2
}
