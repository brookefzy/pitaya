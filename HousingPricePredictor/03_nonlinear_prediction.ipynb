{
 "cells": [
  {
   "cell_type": "markdown",
   "metadata": {},
   "source": [
    "# Part2 - Nonlinear Models\n",
    "## Goal:\n",
    "1. Compare the nonlinear models including:\n",
    "* Decision Tree Regressor\n",
    "* Random Forest\n",
    "* XGBoost\n",
    "* Neural Network (if we have time)\n",
    "2. What more you should know but we will not cover today:\n",
    "* LightGBM\n",
    "* TensorFlow Decision Forests: TensorFlow Decision Forests\n",
    "3. Load all models and conduct feature importance analysis\n",
    "* permutation importance [Link](https://scikit-learn.org/stable/modules/permutation_importance.html)\n",
    "* SHAP package [Link](https://shap.readthedocs.io/en/latest/) (if we have time)\n",
    "\n",
    "### Readings to review:\n",
    "1. Intro to decision tree [Link] (https://medium.com/@MrBam44/decision-trees-91f61a42c724#:~:text=A%20decision%20tree%20is%20a,Bagging%2C%20and%20Boosted%20Decision%20Trees.)"
   ]
  },
  {
   "cell_type": "markdown",
   "metadata": {},
   "source": [
    "# Introduction to Decision Tree (in 5 seconds)\n",
    "<p align=\"center\">\n",
    "<img src=\"../asset/decision_tree.PNG\" alt=\"decision_tree\" style=\"width:50%; border:0;\">\n",
    "</p>\n",
    "\n",
    "* Root Nodes — It is the node present at the beginning of a decision tree from this node the population starts dividing according to various features.\n",
    "* Decision Nodes — the nodes we get after splitting the root nodes are called Decision Node\n",
    "* Leaf Nodes — the nodes where further splitting is not possible are called leaf nodes or terminal nodes\n",
    "* Branch/Sub-tree — just like a small portion of a graph is called sub-graph similarly a sub-section of this decision tree is called sub-tree.\n",
    "* Pruning — cutting down some nodes to stop overfitting.\n",
    "* [Source](https://medium.com/@MrBam44/decision-trees-91f61a42c724#:~:text=A%20decision%20tree%20is%20aBagging%2C%20and%20Boosted%20Decision%20Trees)"
   ]
  },
  {
   "cell_type": "markdown",
   "metadata": {},
   "source": [
    "# Tutorials"
   ]
  },
  {
   "cell_type": "markdown",
   "metadata": {},
   "source": [
    "### 1. Data Preprocessing\n",
    "* Here we simply repeat the previosu steps"
   ]
  },
  {
   "cell_type": "code",
   "execution_count": 1,
   "metadata": {},
   "outputs": [],
   "source": [
    "import pandas as pd\n",
    "import numpy as np \n",
    "import matplotlib.pyplot as plt\n",
    "import seaborn as sns\n",
    "import math\n",
    "from scipy.stats import zscore\n",
    "from sklearn.model_selection import train_test_split\n",
    "from sklearn.preprocessing import StandardScaler\n",
    "from sklearn.linear_model import LinearRegression, Lasso, Ridge\n",
    "from sklearn.tree import DecisionTreeRegressor\n",
    "from sklearn.ensemble import RandomForestRegressor\n",
    "from sklearn.metrics import r2_score\n",
    "from sklearn.preprocessing import PolynomialFeatures\n",
    "from sklearn.metrics import mean_squared_error\n",
    "import warnings\n",
    "pd.set_option('display.max_columns', None)\n",
    "warnings.filterwarnings(\"ignore\")"
   ]
  },
  {
   "cell_type": "code",
   "execution_count": null,
   "metadata": {},
   "outputs": [],
   "source": [
    "# load data\n",
    "df_train = pd.read_csv('./data/train.csv', index_col='Id')\n",
    "df_train.head()"
   ]
  }
 ],
 "metadata": {
  "kernelspec": {
   "display_name": "pitaya",
   "language": "python",
   "name": "python3"
  },
  "language_info": {
   "codemirror_mode": {
    "name": "ipython",
    "version": 3
   },
   "file_extension": ".py",
   "mimetype": "text/x-python",
   "name": "python",
   "nbconvert_exporter": "python",
   "pygments_lexer": "ipython3",
   "version": "0.0.0"
  },
  "orig_nbformat": 4
 },
 "nbformat": 4,
 "nbformat_minor": 2
}
