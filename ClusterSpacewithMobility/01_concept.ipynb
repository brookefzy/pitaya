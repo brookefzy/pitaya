{
 "cells": [
  {
   "cell_type": "markdown",
   "metadata": {},
   "source": [
    "# Concept introduction\n",
    "## Supervised learning vs. unsupervised learning\n",
    "<p align=\"center\">\n",
    "<img src=\"../asset/supervise_nonsupervised.jpg\" alt=\"graphics of supervised_nonsupervised\" style=\"width:50%; border:0;\">\n",
    "</p>\n",
    "\n",
    "Two main types of supervised learning:\n",
    "1. regression\n",
    "2. classification\n",
    "\n",
    "Two main types of unsupervised learning:\n",
    "1. clustering\n",
    "2. dimension reduction\n",
    "\n",
    "image [source](https://www.google.com/url?sa=i&url=https%3A%2F%2Fanalystprep.com%2Fstudy-notes%2Fcfa-level-2%2Fquantitative-method%2Fsupervised-machine-learning-unsupervised-machine-learning-deep-learning%2F&psig=AOvVaw0IQ2wW54RhXJJOJP5fOw1j&ust=1702287318554000&source=images&cd=vfe&opi=89978449&ved=0CBIQjRxqFwoTCMic8cvIhIMDFQAAAAAdAAAAABAD)"
   ]
  },
  {
   "cell_type": "markdown",
   "metadata": {},
   "source": [
    "## KMean Clustering algorithms\n",
    "source: [Link](https://www.kaggle.com/code/shrutimechlearn/step-by-step-kmeans-explained-in-detail)\n",
    "The goal of this algorithm is to find groups in the data, with the number of groups represented by the variable K. The algorithm works iteratively to assign each data point to one of K groups based on the features that are provided. Data points are clustered based on feature similarity. The results of the K-means clustering algorithm are:\n",
    "\n",
    "* The centroids of the K clusters, which can be used to label new data\n",
    "* Labels for the training data (each data point is assigned to a single cluster)\n",
    "\n",
    "<p align=\"center\">\n",
    "<img src=\"../asset/kmeanbasics1.png\" alt=\"kmean\" style=\"width:50%; border:0;\">\n",
    "</p>"
   ]
  },
  {
   "cell_type": "markdown",
   "metadata": {},
   "source": [
    "# Fuzzy clustering\n",
    "Fuzzy logic principles can be used to cluster multidimensional data, assigning each point a membership in each cluster center from 0 to 100 percent.\n",
    "* Attribution to a cluster: In fuzzy clustering, each point has a probability of belonging to each cluster, rather than completely belonging to just one cluster as it is the case in the traditional k-means. In Fuzzy-C Means clustering, each point has a weighting associated with a particular cluster, so a point doesn’t sit “in a cluster” as much as has a weak or strong association to the cluster, which is determined by the inverse distance to the center of the cluster.\n",
    "* Speed: Fuzzy-C means will tend to run slower than K means, since it’s actually doing more work. Each point is evaluated with each cluster, and more operations are involved in each evaluation. K-Means just needs to do a distance calculation, whereas fuzzy c means needs to do a full inverse-distance weighting (See equation below).\n",
    "* Fuzzy c-means is a special case of K-means when the probability function used is simply 1 if the data point is closest to a centroid and 0 otherwise.\n",
    "\n",
    "<p align=\"center\">\n",
    "<img src=\"../asset/softclustering_hardclustering.webp\" alt=\"kmean\" style=\"width:50%; border:0;\">\n",
    "</p>\n",
    "\n",
    "<p align=\"center\">\n",
    "<img src=\"../asset/fuzzycmean.webp\" alt=\"kmean\" style=\"width:50%; border:0;\">\n",
    "</p>\n",
    "Each iteration recalculate the centroid of the cluster as the weighted centroid given the probabilities of membership of all data points xi"
   ]
  },
  {
   "cell_type": "code",
   "execution_count": null,
   "metadata": {
    "vscode": {
     "languageId": "plaintext"
    }
   },
   "outputs": [],
   "source": []
  },
  {
   "cell_type": "markdown",
   "metadata": {},
   "source": []
  }
 ],
 "metadata": {
  "language_info": {
   "name": "python"
  }
 },
 "nbformat": 4,
 "nbformat_minor": 2
}
