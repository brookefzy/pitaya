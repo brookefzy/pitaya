{
 "cells": [
  {
   "cell_type": "code",
   "execution_count": 3,
   "metadata": {},
   "outputs": [],
   "source": [
    "import pandas as pd\n",
    "import geopandas as gpd\n",
    "import numpy as np\n",
    "from sklearn.preprocessing import StandardScaler, MinMaxScaler\n",
    "from sklearn.decomposition import NMF\n",
    "# from fcmeans import FCM\n",
    "import seaborn as sns\n",
    "import matplotlib.pyplot as plt\n",
    "import matplotlib.style\n",
    "import matplotlib as mpl\n",
    "from sklearn.metrics import silhouette_score\n",
    "mpl.style.use('default')\n",
    "import os"
   ]
  },
  {
   "cell_type": "markdown",
   "metadata": {},
   "source": [
    "# Data Cleaning\n",
    "The data we are using today is already pre-cleaned.\n",
    "\n",
    "Refer to the [paper](https://ieeexplore.ieee.org/abstract/document/9586765/) and the Readme for details.\n",
    "\n"
   ]
  },
  {
   "cell_type": "code",
   "execution_count": 10,
   "metadata": {},
   "outputs": [
    {
     "data": {
      "text/plain": [
       "(4319, 173)"
      ]
     },
     "execution_count": 10,
     "metadata": {},
     "output_type": "execute_result"
    }
   ],
   "source": [
    "radius = 800\n",
    "\n",
    "df = pd.read_csv(\"./data/station_pattern_median_int_{}.csv\".format(radius))\n",
    "df.head()"
   ]
  },
  {
   "cell_type": "code",
   "execution_count": null,
   "metadata": {},
   "outputs": [],
   "source": [
    "colsmeta = {\n",
    "    'st_id':'station ID',\n",
    "    'visitor_count_cbg_adj':'number of visitors of all adjacent CBGs',\n",
    "    'raw_visit_counts':'total visitors visiting this station',\n",
    "}"
   ]
  },
  {
   "cell_type": "code",
   "execution_count": 11,
   "metadata": {},
   "outputs": [
    {
     "data": {
      "text/plain": [
       "Index(['st_id', 'visitor_count_cbg_adj', 'raw_visit_counts', 'distance',\n",
       "       'drophour', '0', '1', '2', '3', '4',\n",
       "       ...\n",
       "       '158', '159', '160', '161', '162', '163', '164', '165', '166', '167'],\n",
       "      dtype='object', length=173)"
      ]
     },
     "execution_count": 11,
     "metadata": {},
     "output_type": "execute_result"
    }
   ],
   "source": [
    "# understand the data\n",
    "df.columns"
   ]
  },
  {
   "cell_type": "code",
   "execution_count": null,
   "metadata": {},
   "outputs": [],
   "source": [
    "# set up 168 hours for a week\n",
    "hourcolumns = np.arange(0,168,1)\n",
    "hourcolumnstr = [str(h) for h in hourcolumns]"
   ]
  }
 ],
 "metadata": {
  "kernelspec": {
   "display_name": "pitaya",
   "language": "python",
   "name": "python3"
  },
  "language_info": {
   "codemirror_mode": {
    "name": "ipython",
    "version": 3
   },
   "file_extension": ".py",
   "mimetype": "text/x-python",
   "name": "python",
   "nbconvert_exporter": "python",
   "pygments_lexer": "ipython3",
   "version": "3.10.13"
  }
 },
 "nbformat": 4,
 "nbformat_minor": 2
}
